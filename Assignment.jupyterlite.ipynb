{
  "metadata": {
    "kernelspec": {
      "name": "python",
      "display_name": "Python (Pyodide)",
      "language": "python"
    },
    "language_info": {
      "codemirror_mode": {
        "name": "python",
        "version": 3
      },
      "file_extension": ".py",
      "mimetype": "text/x-python",
      "name": "python",
      "nbconvert_exporter": "python",
      "pygments_lexer": "ipython3",
      "version": "3.8"
    }
  },
  "nbformat_minor": 4,
  "nbformat": 4,
  "cells": [
    {
      "cell_type": "markdown",
      "source": "<p style=\"text-align:center\">\n    <a href=\"https://skills.network/?utm_medium=Exinfluencer&utm_source=Exinfluencer&utm_content=000026UJ&utm_term=10006555&utm_id=NA-SkillsNetwork-Channel-SkillsNetworkCoursesIBMDeveloperSkillsNetworkST0151ENSkillsNetwork20531532-2022-01-01\" target=\"_blank\">\n    <img src=\"https://cf-courses-data.s3.us.cloud-object-storage.appdomain.cloud/assets/logos/SN_web_lightmode.png\" width=\"200\" alt=\"Skills Network Logo\"  />\n    </a>\n</p>\n\n",
      "metadata": {}
    },
    {
      "cell_type": "markdown",
      "source": "#### Import the required libraries we need for the lab.\n",
      "metadata": {}
    },
    {
      "cell_type": "code",
      "source": "import piplite\nawait piplite.install(['numpy'],['pandas'])\nawait piplite.install(['seaborn'])",
      "metadata": {
        "trusted": true
      },
      "outputs": [],
      "execution_count": null
    },
    {
      "cell_type": "code",
      "source": "import pandas as pd\nimport pandas as pd\nimport seaborn as sns\nimport matplotlib.pyplot as pyplot\nimport scipy.stats\nimport statsmodels.api as sm\nfrom statsmodels.formula.api import ols",
      "metadata": {
        "trusted": true
      },
      "outputs": [],
      "execution_count": null
    },
    {
      "cell_type": "markdown",
      "source": "#### Read the dataset in the csv file from the URL\n",
      "metadata": {}
    },
    {
      "cell_type": "code",
      "source": "from js import fetch\nimport io\n\nURL = 'https://cf-courses-data.s3.us.cloud-object-storage.appdomain.cloud/IBMDeveloperSkillsNetwork-ST0151EN-SkillsNetwork/labs/boston_housing.csv'\nresp = await fetch(URL)\nboston_url = io.BytesIO((await resp.arrayBuffer()).to_py())",
      "metadata": {
        "trusted": true
      },
      "outputs": [],
      "execution_count": null
    },
    {
      "cell_type": "code",
      "source": "boston_df=pd.read_csv(boston_url)",
      "metadata": {
        "trusted": true
      },
      "outputs": [],
      "execution_count": null
    },
    {
      "cell_type": "markdown",
      "source": "#### Add your code below following the instructions given in the course to complete the peer graded assignment\n",
      "metadata": {}
    },
    {
      "cell_type": "markdown",
      "source": "Is there a significant difference in median value of houses bounded by the Charles river or not? (T-test for independent samples)\n",
      "metadata": {}
    },
    {
      "cell_type": "code",
      "source": "chas_1 = boston_df[boston_df['CHAS'] == 1]['MEDV']\nchas_0 = boston_df[boston_df['CHAS'] == 0]['MEDV']\n\nt_stat, p_value = stats.ttest_ind(chas_1, chas_0, equal_var=False)\n\nprint(f\"T-statistic: {t_stat}\")\nprint(f\"P-value: {p_value}\")\n\nalpha = 0.05\nif p_value < alpha:\n    print(\"Reject the null hypothesis: There is a significant difference in median value of houses bounded by the Charles River versus those not bounded.\")\nelse:\n    print(\"Fail to reject the null hypothesis: There is no significant difference in median value of houses bounded by the Charles River versus those not bounded.\")\n\nplt.figure(figsize=(8, 6))\nsns.boxplot(x='CHAS', y='MEDV', data=boston_df)\nplt.title('Boxplot of Median Value of Owner-Occupied Homes (MEDV) by Charles River Bounding')\nplt.xlabel('Charles River Dummy Variable (0 = Not bounded, 1 = Bounded)')\nplt.ylabel('Median Value of Owner-Occupied Homes (MEDV)')\nplt.show()",
      "metadata": {
        "trusted": true
      },
      "outputs": [],
      "execution_count": null
    },
    {
      "cell_type": "markdown",
      "source": "Is there a difference in Median values of houses (MEDV) for each proportion of owner occupied units built prior to 1940 (AGE)? (ANOVA)",
      "metadata": {}
    },
    {
      "cell_type": "code",
      "source": "model = ols('MEDV ~ AGE_GROUP', data=boston_df).fit()\nanova_table = sm.stats.anova_lm(model, typ=2)\n\nprint(anova_table)\n\nalpha = 0.05\np_value = anova_table['PR(>F)'][0]\nif p_value < alpha:\n    print(\"Reject the null hypothesis: There is a significant difference in median value of houses among different AGE groups.\")\nelse:\n    print(\"Fail to reject the null hypothesis: There is no significant difference in median value of houses among different AGE groups.\")\n\nplt.figure(figsize=(8, 6))\nsns.boxplot(x='AGE_GROUP', y='MEDV', data=boston_df)\nplt.title('Boxplot of Median Value of Owner-Occupied Homes (MEDV) by Age Groups')\nplt.xlabel('Age Group')\nplt.ylabel('Median Value of Owner-Occupied Homes (MEDV)')\nplt.show()",
      "metadata": {
        "trusted": true
      },
      "outputs": [],
      "execution_count": null
    },
    {
      "cell_type": "markdown",
      "source": "Can we conclude that there is no relationship between Nitric oxide concentrations and proportion of non-retail business acres per town? (Pearson Correlation)",
      "metadata": {}
    },
    {
      "cell_type": "code",
      "source": "nox = boston_df['NOX']\nindus = boston_df['INDUS']\n\ncorrelation_coefficient, p_value = stats.pearsonr(nox, indus)\n\nprint(f\"Pearson Correlation Coefficient: {correlation_coefficient}\")\nprint(f\"P-value: {p_value}\")\n\nalpha = 0.05\nif p_value < alpha:\n    print(\"Reject the null hypothesis: There is a significant relationship between Nitric Oxide Concentrations (NOX) and the proportion of non-retail business acres per town (INDUS).\")\nelse:\n    print(\"Fail to reject the null hypothesis: There is no significant relationship between Nitric Oxide Concentrations (NOX) and the proportion of non-retail business acres per town (INDUS).\")",
      "metadata": {
        "trusted": true
      },
      "outputs": [],
      "execution_count": null
    },
    {
      "cell_type": "markdown",
      "source": "What is the impact of an additional weighted distance  to the five Boston employment centres on the median value of owner occupied homes? (Regression analysis)",
      "metadata": {}
    },
    {
      "cell_type": "code",
      "source": "X = boston_df['DIS']\ny = boston_df['MEDV']\n\nX = sm.add_constant(X)\n\nmodel = sm.OLS(y, X).fit()\n\nprint(model.summary())\n\ncoef_dis = model.params['DIS']\nprint(f\"Coefficient for DIS: {coef_dis}\")\n\nif coef_dis > 0:\n    print(f\"An increase in weighted distance to the five Boston employment centers is associated with an increase in the median value of owner-occupied homes by {coef_dis} units for each unit increase in distance.\")\nelse:\n    print(f\"An increase in weighted distance to the five Boston employment centers is associated with a decrease in the median value of owner-occupied homes by {coef_dis} units for each unit increase in distance.\")",
      "metadata": {
        "trusted": true
      },
      "outputs": [],
      "execution_count": null
    },
    {
      "cell_type": "code",
      "source": "",
      "metadata": {
        "trusted": true
      },
      "outputs": [],
      "execution_count": null
    }
  ]
}